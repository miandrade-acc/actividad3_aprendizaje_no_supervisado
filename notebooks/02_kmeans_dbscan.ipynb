{
 "cells": [
  {
   "cell_type": "code",
   "execution_count": 34,
   "id": "4e7b74e4-a00e-4e58-9c4a-4c8f5b352fb9",
   "metadata": {},
   "outputs": [],
   "source": [
    "# ========================================================\n",
    "# NOTEBOOK 02 - MODELADO: K-MEANS Y DBSCAN\n",
    "# ========================================================\n",
    "# Este cuaderno aplica técnicas de clustering no supervisado\n",
    "# (K-means y DBSCAN) sobre los datos limpios.\n",
    "# Incluye análisis de número óptimo de clusters y resultados.\n"
   ]
  },
  {
   "cell_type": "code",
   "execution_count": 35,
   "id": "b727bf5e-67bc-499d-9989-855730c0b98b",
   "metadata": {},
   "outputs": [],
   "source": [
    "# ===============================================\n",
    "# BLOQUE 1 - Librerías necesarias para clustering\n",
    "# ===============================================\n",
    "\n",
    "import pandas as pd\n",
    "import numpy as np\n",
    "import matplotlib.pyplot as plt\n",
    "import seaborn as sns\n",
    "from sklearn.preprocessing import StandardScaler\n",
    "from sklearn.cluster import KMeans, DBSCAN\n",
    "from sklearn.metrics import silhouette_score\n"
   ]
  },
  {
   "cell_type": "code",
   "execution_count": 36,
   "id": "22c152dc-7c2b-4ebd-a51c-1f876bb2061e",
   "metadata": {},
   "outputs": [
    {
     "name": "stdout",
     "output_type": "stream",
     "text": [
      "✅ Dataset limpio cargado. Filas: 406829\n"
     ]
    }
   ],
   "source": [
    "# ===============================================\n",
    "# BLOQUE 2 - Carga de dataset limpio\n",
    "# ===============================================\n",
    "\n",
    "df = pd.read_csv('../data/online_retail_clean.csv')\n",
    "print(f\"✅ Dataset limpio cargado. Filas: {df.shape[0]}\")\n"
   ]
  },
  {
   "cell_type": "code",
   "execution_count": 37,
   "id": "a98662be-a5ab-4341-a26c-6d841369ea4b",
   "metadata": {},
   "outputs": [
    {
     "name": "stdout",
     "output_type": "stream",
     "text": [
      "📊 Vista previa de los perfiles agrupados por cliente:\n"
     ]
    },
    {
     "data": {
      "text/html": [
       "<div>\n",
       "<style scoped>\n",
       "    .dataframe tbody tr th:only-of-type {\n",
       "        vertical-align: middle;\n",
       "    }\n",
       "\n",
       "    .dataframe tbody tr th {\n",
       "        vertical-align: top;\n",
       "    }\n",
       "\n",
       "    .dataframe thead th {\n",
       "        text-align: right;\n",
       "    }\n",
       "</style>\n",
       "<table border=\"1\" class=\"dataframe\">\n",
       "  <thead>\n",
       "    <tr style=\"text-align: right;\">\n",
       "      <th></th>\n",
       "      <th>CustomerID</th>\n",
       "      <th>TotalProductos</th>\n",
       "      <th>PrecioPromedio</th>\n",
       "      <th>PaisesComprados</th>\n",
       "    </tr>\n",
       "  </thead>\n",
       "  <tbody>\n",
       "    <tr>\n",
       "      <th>0</th>\n",
       "      <td>12346</td>\n",
       "      <td>0</td>\n",
       "      <td>1.040000</td>\n",
       "      <td>1</td>\n",
       "    </tr>\n",
       "    <tr>\n",
       "      <th>1</th>\n",
       "      <td>12347</td>\n",
       "      <td>2458</td>\n",
       "      <td>2.644011</td>\n",
       "      <td>1</td>\n",
       "    </tr>\n",
       "    <tr>\n",
       "      <th>2</th>\n",
       "      <td>12348</td>\n",
       "      <td>2341</td>\n",
       "      <td>5.764839</td>\n",
       "      <td>1</td>\n",
       "    </tr>\n",
       "    <tr>\n",
       "      <th>3</th>\n",
       "      <td>12349</td>\n",
       "      <td>631</td>\n",
       "      <td>8.289041</td>\n",
       "      <td>1</td>\n",
       "    </tr>\n",
       "    <tr>\n",
       "      <th>4</th>\n",
       "      <td>12350</td>\n",
       "      <td>197</td>\n",
       "      <td>3.841176</td>\n",
       "      <td>1</td>\n",
       "    </tr>\n",
       "  </tbody>\n",
       "</table>\n",
       "</div>"
      ],
      "text/plain": [
       "   CustomerID  TotalProductos  PrecioPromedio  PaisesComprados\n",
       "0       12346               0        1.040000                1\n",
       "1       12347            2458        2.644011                1\n",
       "2       12348            2341        5.764839                1\n",
       "3       12349             631        8.289041                1\n",
       "4       12350             197        3.841176                1"
      ]
     },
     "execution_count": 37,
     "metadata": {},
     "output_type": "execute_result"
    }
   ],
   "source": [
    "# ===============================================\n",
    "# BLOQUE 3 - Agrupación por cliente\n",
    "# ===============================================\n",
    "\n",
    "df_grouped = df.groupby('CustomerID').agg({\n",
    "    'Quantity': 'sum',\n",
    "    'UnitPrice': 'mean',\n",
    "    'Country': 'nunique'\n",
    "}).reset_index()\n",
    "\n",
    "df_grouped.rename(columns={\n",
    "    'Quantity': 'TotalProductos',\n",
    "    'UnitPrice': 'PrecioPromedio',\n",
    "    'Country': 'PaisesComprados'\n",
    "}, inplace=True)\n",
    "\n",
    "print(\"📊 Vista previa de los perfiles agrupados por cliente:\")\n",
    "df_grouped.head()\n"
   ]
  },
  {
   "cell_type": "code",
   "execution_count": 38,
   "id": "46b95ae7-c14f-4975-b11d-2ae171d1b6e8",
   "metadata": {},
   "outputs": [],
   "source": [
    "# ===============================================\n",
    "# BLOQUE 4 - Normalización de variables\n",
    "# ===============================================\n",
    "\n",
    "scaler = StandardScaler()\n",
    "X = scaler.fit_transform(df_grouped[['TotalProductos', 'PrecioPromedio', 'PaisesComprados']])\n",
    "\n",
    "df_norm = pd.DataFrame(X, columns=['TotalProductos_norm', 'PrecioPromedio_norm', 'PaisesComprados_norm'])\n",
    "df_norm['CustomerID'] = df_grouped['CustomerID']\n"
   ]
  },
  {
   "cell_type": "code",
   "execution_count": 39,
   "id": "c46f81b6-c60f-4fcb-aef2-0a4443cdaf70",
   "metadata": {},
   "outputs": [
    {
     "data": {
      "image/png": "[encoded data removed]",
      "text/plain": [
       "<Figure size 800x400 with 1 Axes>"
      ]
     },
     "metadata": {},
     "output_type": "display_data"
    }
   ],
   "source": [
    "# ===============================================\n",
    "# BLOQUE 5 - Método del Codo (Elbow)\n",
    "# ===============================================\n",
    "\n",
    "inertia = []\n",
    "rango_k = range(2, 11)\n",
    "\n",
    "for k in rango_k:\n",
    "    kmeans = KMeans(n_clusters=k, random_state=42, n_init=10)\n",
    "    kmeans.fit(X)\n",
    "    inertia.append(kmeans.inertia_)\n",
    "\n",
    "plt.figure(figsize=(8, 4))\n",
    "plt.plot(rango_k, inertia, marker='o')\n",
    "plt.title(\"Método del Codo - K-means\")\n",
    "plt.xlabel(\"Número de clusters (k)\")\n",
    "plt.ylabel(\"Inercia\")\n",
    "plt.grid(True)\n",
    "plt.tight_layout()\n",
    "plt.show()\n"
   ]
  },
  {
   "cell_type": "code",
   "execution_count": 40,
   "id": "551c2224-d107-40b6-8ef9-417cb7b92167",
   "metadata": {},
   "outputs": [
    {
     "name": "stdout",
     "output_type": "stream",
     "text": [
      "😊 Coeficientes de Silhouette:\n",
      "k = 2 → Silhouette: 0.9835\n",
      "k = 3 → Silhouette: 0.9844\n",
      "k = 4 → Silhouette: 0.9798\n",
      "k = 5 → Silhouette: 0.9667\n",
      "k = 6 → Silhouette: 0.9672\n",
      "k = 7 → Silhouette: 0.9436\n",
      "k = 8 → Silhouette: 0.9442\n",
      "k = 9 → Silhouette: 0.8160\n",
      "k = 10 → Silhouette: 0.7141\n"
     ]
    }
   ],
   "source": [
    "# ===============================================\n",
    "# BLOQUE 6 - Coeficiente de Silhouette\n",
    "# ===============================================\n",
    "\n",
    "print(\"😊 Coeficientes de Silhouette:\")\n",
    "for k in rango_k:\n",
    "    kmeans = KMeans(n_clusters=k, random_state=42, n_init=10)\n",
    "    labels = kmeans.fit_predict(X)\n",
    "    score = silhouette_score(X, labels)\n",
    "    print(f\"k = {k} → Silhouette: {score:.4f}\")\n"
   ]
  },
  {
   "cell_type": "code",
   "execution_count": 41,
   "id": "f1883835-78ac-492f-a619-e1f5f7b622ca",
   "metadata": {},
   "outputs": [
    {
     "name": "stdout",
     "output_type": "stream",
     "text": [
      "✅ Clustering con K-means completado (k=4)\n"
     ]
    }
   ],
   "source": [
    "# ===============================================\n",
    "# BLOQUE 7 - K-means con k óptimo\n",
    "# ===============================================\n",
    "\n",
    "k_optimo = 4\n",
    "kmeans_final = KMeans(n_clusters=k_optimo, random_state=42, n_init=10)\n",
    "df_norm['cluster_kmeans'] = kmeans_final.fit_predict(X)\n",
    "\n",
    "print(f\"✅ Clustering con K-means completado (k={k_optimo})\")\n"
   ]
  },
  {
   "cell_type": "code",
   "execution_count": 42,
   "id": "68a5ebdb-675b-4f3d-899a-c91cfd110e00",
   "metadata": {},
   "outputs": [
    {
     "name": "stdout",
     "output_type": "stream",
     "text": [
      "📊 Distribución de clientes por cluster DBSCAN:\n",
      "cluster_dbscan\n",
      " 0    4344\n",
      "-1      20\n",
      " 1       8\n",
      "Name: count, dtype: int64\n"
     ]
    }
   ],
   "source": [
    "# ===============================================\n",
    "# BLOQUE 8 - Clustering con DBSCAN\n",
    "# ===============================================\n",
    "\n",
    "eps_val = 0.8\n",
    "min_samples_val = 5\n",
    "\n",
    "dbscan = DBSCAN(eps=eps_val, min_samples=min_samples_val)\n",
    "df_norm['cluster_dbscan'] = dbscan.fit_predict(X)\n",
    "\n",
    "print(\"📊 Distribución de clientes por cluster DBSCAN:\")\n",
    "print(df_norm['cluster_dbscan'].value_counts())\n"
   ]
  },
  {
   "cell_type": "code",
   "execution_count": null,
   "id": "35215911-cad1-4751-bae8-12f69ab74597",
   "metadata": {},
   "outputs": [],
   "source": []
  }
 ],
 "metadata": {
  "kernelspec": {
   "display_name": "Python 3 (ipykernel)",
   "language": "python",
   "name": "python3"
  },
  "language_info": {
   "codemirror_mode": {
    "name": "ipython",
    "version": 3
   },
   "file_extension": ".py",
   "mimetype": "text/x-python",
   "name": "python",
   "nbconvert_exporter": "python",
   "pygments_lexer": "ipython3",
   "version": "3.13.2"
  }
 },
 "nbformat": 4,
 "nbformat_minor": 5
}
